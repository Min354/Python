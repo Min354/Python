{
 "cells": [
  {
   "cell_type": "markdown",
   "metadata": {},
   "source": [
    "#### Quiz) 사이트별로 비밀번호를 만들어 주는 프로그램을 작성하시오\n",
    "- ex) http://naver.com\n",
    "- 규칙1: http://부분은 제외 => naver.com\n",
    "- 규칙2: 처음 만나는 점(.) 이후 부분은 제외 => naver\n",
    "- 규칙3:남은 글자 중 처음 세자리 + 글자갯수 + 글자 내 'e' 갯수 + \"!\"로 구성\n",
    "- 예) 생성된 비밀번호 : nav51!"
   ]
  },
  {
   "cell_type": "code",
   "execution_count": 8,
   "metadata": {},
   "outputs": [
    {
     "data": {
      "text/plain": [
       "'nav51!'"
      ]
     },
     "execution_count": 8,
     "metadata": {},
     "output_type": "execute_result"
    }
   ],
   "source": [
    "url = 'http://naver.com'\n",
    "url = url.replace('http://', '')\n",
    "if url.find('.') != -1:\n",
    "    url = url[: url.index('.')]\n",
    "password = url[:3] + str(len(url)) + str(url.count('e')) + '!'\n",
    "password"
   ]
  }
 ],
 "metadata": {
  "kernelspec": {
   "display_name": "base",
   "language": "python",
   "name": "python3"
  },
  "language_info": {
   "codemirror_mode": {
    "name": "ipython",
    "version": 3
   },
   "file_extension": ".py",
   "mimetype": "text/x-python",
   "name": "python",
   "nbconvert_exporter": "python",
   "pygments_lexer": "ipython3",
   "version": "3.12.1"
  }
 },
 "nbformat": 4,
 "nbformat_minor": 2
}
