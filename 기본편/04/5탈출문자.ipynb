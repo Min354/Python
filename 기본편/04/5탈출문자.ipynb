{
 "cells": [
  {
   "cell_type": "code",
   "execution_count": 1,
   "metadata": {},
   "outputs": [
    {
     "name": "stdout",
     "output_type": "stream",
     "text": [
      "line1 \n",
      "line2\n"
     ]
    }
   ],
   "source": [
    "print(\"line1 \\nline2\")"
   ]
  },
  {
   "cell_type": "code",
   "execution_count": 2,
   "metadata": {},
   "outputs": [
    {
     "name": "stdout",
     "output_type": "stream",
     "text": [
      " ' ' \n",
      " \" \" \n",
      " ' ' \n",
      " \" \" \n"
     ]
    }
   ],
   "source": [
    "print(\" ' ' \")\n",
    "print(' \" \" ')\n",
    "print(\" \\' \\' \")\n",
    "print(' \\\" \\\" ')"
   ]
  },
  {
   "cell_type": "code",
   "execution_count": 3,
   "metadata": {},
   "outputs": [
    {
     "name": "stdout",
     "output_type": "stream",
     "text": [
      "\\\n"
     ]
    }
   ],
   "source": [
    "print('\\\\')"
   ]
  },
  {
   "cell_type": "code",
   "execution_count": 6,
   "metadata": {},
   "outputs": [
    {
     "name": "stdout",
     "output_type": "stream",
     "text": [
      "Ooooo Wolrd \n",
      "Hell\n",
      "tab\ttab\n"
     ]
    }
   ],
   "source": [
    "print('Hello Wolrd \\rOoooo')    #\\r: 커서를 맨 앞으로 이동\n",
    "print('Hello\\b')                #\\b: 백스페이스\n",
    "print('tab\\ttab')               #\\t: tab"
   ]
  }
 ],
 "metadata": {
  "kernelspec": {
   "display_name": "base",
   "language": "python",
   "name": "python3"
  },
  "language_info": {
   "codemirror_mode": {
    "name": "ipython",
    "version": 3
   },
   "file_extension": ".py",
   "mimetype": "text/x-python",
   "name": "python",
   "nbconvert_exporter": "python",
   "pygments_lexer": "ipython3",
   "version": "3.12.1"
  }
 },
 "nbformat": 4,
 "nbformat_minor": 2
}
