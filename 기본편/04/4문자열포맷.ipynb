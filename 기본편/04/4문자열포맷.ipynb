{
 "cells": [
  {
   "cell_type": "code",
   "execution_count": 18,
   "metadata": {},
   "outputs": [
    {
     "name": "stdout",
     "output_type": "stream",
     "text": [
      "#1, str String, char C\n"
     ]
    }
   ],
   "source": [
    "print(\"#%d, str %s, char %c\" %(1, 'String', 'C'))"
   ]
  },
  {
   "cell_type": "code",
   "execution_count": 19,
   "metadata": {},
   "outputs": [
    {
     "name": "stdout",
     "output_type": "stream",
     "text": [
      "#1, str String, char C\n",
      "#C, str 1, char 1\n"
     ]
    }
   ],
   "source": [
    "print(\"#{}, str {}, char {}\" .format(1, 'String', 'C'))\n",
    "print(\"#{2}, str {0}, char {0}\" .format(1, 'String', 'C'))"
   ]
  },
  {
   "cell_type": "code",
   "execution_count": 20,
   "metadata": {},
   "outputs": [
    {
     "name": "stdout",
     "output_type": "stream",
     "text": [
      "#1, str String, char C\n",
      "#String, str 1, char String\n"
     ]
    }
   ],
   "source": [
    "print(\"#{d}, str {s}, char {c}\" .format(d=1, s='String', c='C'))\n",
    "print(\"#{s}, str {d}, char {s}\" .format(d=1, s='String', c='C'))"
   ]
  },
  {
   "cell_type": "code",
   "execution_count": 24,
   "metadata": {},
   "outputs": [
    {
     "name": "stdout",
     "output_type": "stream",
     "text": [
      "#{d}, str {s}, char {c}\n"
     ]
    }
   ],
   "source": [
    "d = 1\n",
    "s = 'String'\n",
    "c = 'C'\n",
    "print(\"#{d}, str {s}, char {c}\") #v3.6부터 된다고 함"
   ]
  }
 ],
 "metadata": {
  "kernelspec": {
   "display_name": "base",
   "language": "python",
   "name": "python3"
  },
  "language_info": {
   "codemirror_mode": {
    "name": "ipython",
    "version": 3
   },
   "file_extension": ".py",
   "mimetype": "text/x-python",
   "name": "python",
   "nbconvert_exporter": "python",
   "pygments_lexer": "ipython3",
   "version": "3.12.1"
  }
 },
 "nbformat": 4,
 "nbformat_minor": 2
}
