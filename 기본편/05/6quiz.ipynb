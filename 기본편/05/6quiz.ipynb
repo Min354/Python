{
 "cells": [
  {
   "cell_type": "code",
   "execution_count": 4,
   "metadata": {},
   "outputs": [
    {
     "name": "stdout",
     "output_type": "stream",
     "text": [
      "1: 2\n",
      "2: [3, 6, 14]\n"
     ]
    }
   ],
   "source": [
    "from random import *\n",
    "users = list(range(1, 21))\n",
    "winner = sample(users, 4)\n",
    "print(\"1: {}\".format(winner[0]))\n",
    "print(\"2: {}\".format(winner[1:]))\n"
   ]
  }
 ],
 "metadata": {
  "kernelspec": {
   "display_name": "base",
   "language": "python",
   "name": "python3"
  },
  "language_info": {
   "codemirror_mode": {
    "name": "ipython",
    "version": 3
   },
   "file_extension": ".py",
   "mimetype": "text/x-python",
   "name": "python",
   "nbconvert_exporter": "python",
   "pygments_lexer": "ipython3",
   "version": "3.12.1"
  }
 },
 "nbformat": 4,
 "nbformat_minor": 2
}
