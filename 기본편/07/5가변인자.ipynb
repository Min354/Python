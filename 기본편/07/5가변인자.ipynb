{
 "cells": [
  {
   "cell_type": "code",
   "execution_count": null,
   "metadata": {},
   "outputs": [],
   "source": [
    "def f(*x):\n",
    "    for i in x:\n",
    "        print(i, end=\"  \")\n",
    "\n",
    "f(1, 2, 3)"
   ]
  }
 ],
 "metadata": {
  "language_info": {
   "name": "python"
  }
 },
 "nbformat": 4,
 "nbformat_minor": 2
}
