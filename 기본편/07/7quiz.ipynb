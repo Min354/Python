{
 "cells": [
  {
   "cell_type": "code",
   "execution_count": 6,
   "metadata": {},
   "outputs": [
    {
     "name": "stdout",
     "output_type": "stream",
     "text": [
      "175, male: 67.375\n"
     ]
    }
   ],
   "source": [
    "def f(h, g):\n",
    "    if(g == 'female'):\n",
    "        x=21\n",
    "    elif(g == 'male'):\n",
    "        x=22\n",
    "    print('{0}, {1}: {2}'.format(h, g, ((h/100)**2)*x))\n",
    "    \n",
    "f(175, 'male')"
   ]
  }
 ],
 "metadata": {
  "kernelspec": {
   "display_name": "base",
   "language": "python",
   "name": "python3"
  },
  "language_info": {
   "codemirror_mode": {
    "name": "ipython",
    "version": 3
   },
   "file_extension": ".py",
   "mimetype": "text/x-python",
   "name": "python",
   "nbconvert_exporter": "python",
   "pygments_lexer": "ipython3",
   "version": "3.12.1"
  }
 },
 "nbformat": 4,
 "nbformat_minor": 2
}
