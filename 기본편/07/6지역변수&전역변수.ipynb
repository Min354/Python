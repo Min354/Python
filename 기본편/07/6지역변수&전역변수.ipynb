{
 "cells": [
  {
   "cell_type": "code",
   "execution_count": 7,
   "metadata": {},
   "outputs": [
    {
     "name": "stdout",
     "output_type": "stream",
     "text": [
      "20 in f()\n",
      "10 in global f()\n",
      "10 not in f()\n"
     ]
    }
   ],
   "source": [
    "x = '10'\n",
    "\n",
    "def f():\n",
    "    x = '20'\n",
    "    print(x + ' in f()')\n",
    "\n",
    "def globalf():\n",
    "    global x\n",
    "    print(x + ' in global f()')\n",
    "\n",
    "f()\n",
    "globalf()\n",
    "print(x + ' not in f()')\n"
   ]
  }
 ],
 "metadata": {
  "kernelspec": {
   "display_name": "base",
   "language": "python",
   "name": "python3"
  },
  "language_info": {
   "codemirror_mode": {
    "name": "ipython",
    "version": 3
   },
   "file_extension": ".py",
   "mimetype": "text/x-python",
   "name": "python",
   "nbconvert_exporter": "python",
   "pygments_lexer": "ipython3",
   "version": "3.12.1"
  }
 },
 "nbformat": 4,
 "nbformat_minor": 2
}
