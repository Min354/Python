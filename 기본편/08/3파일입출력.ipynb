{
 "cells": [
  {
   "cell_type": "code",
   "execution_count": 31,
   "metadata": {},
   "outputs": [],
   "source": [
    "file1 = open(\"file1.txt\", \"w\", encoding=\"utf8\") #w: 덮어쓰기\n",
    "print(\"file w\", file=file1)\n",
    "file1.close()"
   ]
  },
  {
   "cell_type": "code",
   "execution_count": 30,
   "metadata": {},
   "outputs": [],
   "source": [
    "file1 = open(\"file1.txt\", \"a\", encoding=\"utf8\") #a: append\n",
    "print(\"-\"*10, file=file1)\n",
    "file1.write(\"file append\")\n",
    "file1.write(\"\\n\")\n",
    "print(\"-\"*10, file=file1)\n",
    "file1.close()"
   ]
  },
  {
   "cell_type": "code",
   "execution_count": 32,
   "metadata": {},
   "outputs": [
    {
     "name": "stdout",
     "output_type": "stream",
     "text": [
      "file w\n",
      "---\n",
      "file append\n",
      "----------\n",
      "\n"
     ]
    }
   ],
   "source": [
    "file1 = open(\"file1.txt\", \"r\", encoding=\"utf8\")\n",
    "print(file1.read())\n",
    "file1.close()"
   ]
  },
  {
   "cell_type": "code",
   "execution_count": 36,
   "metadata": {},
   "outputs": [
    {
     "name": "stdout",
     "output_type": "stream",
     "text": [
      "file w\n",
      "\n",
      "---\n",
      "\n",
      "file append\n",
      "\n",
      "----------\n",
      "\n"
     ]
    }
   ],
   "source": [
    "file1 = open(\"file1.txt\", \"r\", encoding=\"utf8\")\n",
    "while True:\n",
    "    line = file1.readline()       #readline + /n\n",
    "    if not line:\n",
    "        break\n",
    "    print(line)\n",
    "file1.close()"
   ]
  },
  {
   "cell_type": "code",
   "execution_count": 37,
   "metadata": {},
   "outputs": [
    {
     "name": "stdout",
     "output_type": "stream",
     "text": [
      "file w\n",
      "\n",
      "---\n",
      "\n",
      "file append\n",
      "\n",
      "----------\n",
      "\n"
     ]
    }
   ],
   "source": [
    "file1 = open(\"file1.txt\", \"r\", encoding=\"utf8\")\n",
    "lines = file1.readlines()   #list\n",
    "for line in lines:\n",
    "    print(line)\n",
    "file1.close()"
   ]
  }
 ],
 "metadata": {
  "kernelspec": {
   "display_name": "base",
   "language": "python",
   "name": "python3"
  },
  "language_info": {
   "codemirror_mode": {
    "name": "ipython",
    "version": 3
   },
   "file_extension": ".py",
   "mimetype": "text/x-python",
   "name": "python",
   "nbconvert_exporter": "python",
   "pygments_lexer": "ipython3",
   "version": "3.12.1"
  }
 },
 "nbformat": 4,
 "nbformat_minor": 2
}
