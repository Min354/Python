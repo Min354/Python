{
 "cells": [
  {
   "cell_type": "markdown",
   "metadata": {},
   "source": [
    "#### pickle\n",
    "- 프로그램 상의 데이터를 파일 형태로 저장"
   ]
  },
  {
   "cell_type": "code",
   "execution_count": 1,
   "metadata": {},
   "outputs": [
    {
     "name": "stdout",
     "output_type": "stream",
     "text": [
      "{'name': 'K', 'age': '22', 'etc': [4, 44]}\n"
     ]
    }
   ],
   "source": [
    "import pickle\n",
    "file2 = open(\"file2.pickle\", \"wb\")  #피클은 항상 바이너리로 저장, 인코딩 설정 필요 x\n",
    "file2d = {'name':'K', 'age':'22', 'etc':[4,44]}\n",
    "print(file2d)\n",
    "pickle.dump(file2d, file2)\n",
    "file2.close()"
   ]
  },
  {
   "cell_type": "code",
   "execution_count": 2,
   "metadata": {},
   "outputs": [
    {
     "name": "stdout",
     "output_type": "stream",
     "text": [
      "{'name': 'K', 'age': '22', 'etc': [4, 44]}\n"
     ]
    }
   ],
   "source": [
    "file2 = open(\"file2.pickle\", \"rb\")  #피클은 항상 바이너리로 저장, 인코딩 설정 필요 x\n",
    "file2d = pickle.load(file2)\n",
    "print(file2d)\n",
    "file2.close()"
   ]
  }
 ],
 "metadata": {
  "kernelspec": {
   "display_name": "base",
   "language": "python",
   "name": "python3"
  },
  "language_info": {
   "codemirror_mode": {
    "name": "ipython",
    "version": 3
   },
   "file_extension": ".py",
   "mimetype": "text/x-python",
   "name": "python",
   "nbconvert_exporter": "python",
   "pygments_lexer": "ipython3",
   "version": "3.12.1"
  }
 },
 "nbformat": 4,
 "nbformat_minor": 2
}
