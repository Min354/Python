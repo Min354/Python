{
 "cells": [
  {
   "cell_type": "code",
   "execution_count": 3,
   "metadata": {},
   "outputs": [
    {
     "name": "stdout",
     "output_type": "stream",
     "text": [
      "a, b ? a\n"
     ]
    }
   ],
   "source": [
    "print('a', 'b', sep=', ', end=' ? ')\n",
    "print('a')"
   ]
  },
  {
   "cell_type": "code",
   "execution_count": 4,
   "metadata": {},
   "outputs": [
    {
     "name": "stdout",
     "output_type": "stream",
     "text": [
      "a b\n"
     ]
    },
    {
     "name": "stderr",
     "output_type": "stream",
     "text": [
      "a b\n"
     ]
    }
   ],
   "source": [
    "import sys\n",
    "print('a', 'b', file=sys.stdout)    #표준 출력\n",
    "print('a', 'b', file=sys.stderr)    #표준 오류"
   ]
  },
  {
   "cell_type": "code",
   "execution_count": 16,
   "metadata": {},
   "outputs": [
    {
     "name": "stdout",
     "output_type": "stream",
     "text": [
      "aaa     :  11\n",
      "bbbbb   :   2\n",
      "c       :3333\n"
     ]
    }
   ],
   "source": [
    "d = {'aaa':11, 'bbbbb':2, 'c':3333}\n",
    "for alpha, num in d.items():    #items(): return key&value as tuple\n",
    "    print(alpha.ljust(8), str(num).rjust(4), sep=\":\")"
   ]
  },
  {
   "cell_type": "code",
   "execution_count": 21,
   "metadata": {},
   "outputs": [
    {
     "name": "stdout",
     "output_type": "stream",
     "text": [
      "num : 00001\n",
      "num : 00002\n",
      "num : 00003\n",
      "num : 00004\n",
      "num : 00005\n",
      "num : 00006\n",
      "num : 00007\n",
      "num : 00008\n",
      "num : 00009\n",
      "num : 00010\n"
     ]
    }
   ],
   "source": [
    "for n in range(1, 11):\n",
    "    print(\"num : \" + str(n).zfill(5))   "
   ]
  },
  {
   "cell_type": "code",
   "execution_count": 24,
   "metadata": {},
   "outputs": [
    {
     "name": "stdout",
     "output_type": "stream",
     "text": [
      "출력: 아무거나 입력\n"
     ]
    }
   ],
   "source": [
    "print(\"출력: \" + input(\"입력: \"))"
   ]
  }
 ],
 "metadata": {
  "kernelspec": {
   "display_name": "base",
   "language": "python",
   "name": "python3"
  },
  "language_info": {
   "codemirror_mode": {
    "name": "ipython",
    "version": 3
   },
   "file_extension": ".py",
   "mimetype": "text/x-python",
   "name": "python",
   "nbconvert_exporter": "python",
   "pygments_lexer": "ipython3",
   "version": "3.12.1"
  }
 },
 "nbformat": 4,
 "nbformat_minor": 2
}
