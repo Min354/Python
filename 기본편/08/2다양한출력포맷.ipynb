{
 "cells": [
  {
   "cell_type": "code",
   "execution_count": 3,
   "metadata": {},
   "outputs": [
    {
     "name": "stdout",
     "output_type": "stream",
     "text": [
      "         1\n"
     ]
    }
   ],
   "source": [
    "#빈 자리는 빈 공간으로, 오른쪽 정렬, 10자리 공간 확보\n",
    "print(\"{0: >10}\".format(1))"
   ]
  },
  {
   "cell_type": "code",
   "execution_count": 8,
   "metadata": {},
   "outputs": [
    {
     "name": "stdout",
     "output_type": "stream",
     "text": [
      "        +1\n",
      "        -1\n"
     ]
    }
   ],
   "source": [
    "#양수는 +, 음수는 -로 표기\n",
    "print(\"{0: >+10}\".format(1))\n",
    "print(\"{0: >+10}\".format(-1))"
   ]
  },
  {
   "cell_type": "code",
   "execution_count": 12,
   "metadata": {},
   "outputs": [
    {
     "name": "stdout",
     "output_type": "stream",
     "text": [
      "1_________\n"
     ]
    }
   ],
   "source": [
    "#빈 자리는 '_'으로, 왼쪽 정렬, 10자리 공간 확보\n",
    "print(\"{0:_<10}\".format(1))"
   ]
  },
  {
   "cell_type": "code",
   "execution_count": 24,
   "metadata": {},
   "outputs": [
    {
     "name": "stdout",
     "output_type": "stream",
     "text": [
      "+1,000,000,000,000,000,000,000^^\n"
     ]
    }
   ],
   "source": [
    "#세자리마다 ','\n",
    "print(\"{0:^<+32,}\".format(1000000000000000000000))"
   ]
  },
  {
   "cell_type": "code",
   "execution_count": 30,
   "metadata": {},
   "outputs": [
    {
     "name": "stdout",
     "output_type": "stream",
     "text": [
      "1.666667\n",
      "1.667\n"
     ]
    }
   ],
   "source": [
    "#소수점 출력\n",
    "print(\"{0:f}\".format(5/3))\n",
    "print(\"{0:.3f}\".format(5/3))"
   ]
  }
 ],
 "metadata": {
  "kernelspec": {
   "display_name": "base",
   "language": "python",
   "name": "python3"
  },
  "language_info": {
   "codemirror_mode": {
    "name": "ipython",
    "version": 3
   },
   "file_extension": ".py",
   "mimetype": "text/x-python",
   "name": "python",
   "nbconvert_exporter": "python",
   "pygments_lexer": "ipython3",
   "version": "3.12.1"
  }
 },
 "nbformat": 4,
 "nbformat_minor": 2
}
