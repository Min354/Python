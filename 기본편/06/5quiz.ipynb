{
 "cells": [
  {
   "cell_type": "code",
   "execution_count": 6,
   "metadata": {},
   "outputs": [
    {
     "name": "stdout",
     "output_type": "stream",
     "text": [
      "1: 31min\n",
      "2: 10min\n",
      "3: 22min\n",
      "4: 16min\n",
      "5: 34min\n",
      "6: 38min\n",
      "7: 44min\n",
      "8: 10min\n",
      "9: 47min\n",
      "10: 38min\n",
      "11: 49min\n",
      "12: 29min\n",
      "13: 21min\n",
      "14: 48min\n",
      "15: 14min\n",
      "16: 6min\n",
      "17: 27min\n",
      "18: 43min\n",
      "19: 44min\n",
      "20: 14min\n",
      "21: 36min\n",
      "22: 40min\n",
      "23: 44min\n",
      "24: 50min\n",
      "25: 49min\n",
      "26: 31min\n",
      "27: 12min\n",
      "28: 25min\n",
      "29: 30min\n",
      "30: 20min\n",
      "31: 43min\n",
      "32: 16min\n",
      "33: 33min\n",
      "34: 40min\n",
      "35: 8min\n",
      "36: 39min\n",
      "37: 36min\n",
      "38: 30min\n",
      "39: 25min\n",
      "40: 29min\n",
      "41: 11min\n",
      "42: 8min\n",
      "43: 30min\n",
      "44: 27min\n",
      "45: 41min\n",
      "46: 7min\n",
      "47: 47min\n",
      "48: 50min\n",
      "49: 38min\n",
      "50: 30min\n",
      "n = 10\n"
     ]
    }
   ],
   "source": [
    "from random import *\n",
    "n = 0\n",
    "for i in range(0, 50):\n",
    "    x = int(random()*46) + 5\n",
    "    print('{0}: {1}min'.format(i+1, x))\n",
    "    if x < 16:\n",
    "        n += 1\n",
    "print('n = {0}'.format(n))"
   ]
  }
 ],
 "metadata": {
  "kernelspec": {
   "display_name": "base",
   "language": "python",
   "name": "python3"
  },
  "language_info": {
   "codemirror_mode": {
    "name": "ipython",
    "version": 3
   },
   "file_extension": ".py",
   "mimetype": "text/x-python",
   "name": "python",
   "nbconvert_exporter": "python",
   "pygments_lexer": "ipython3",
   "version": "3.12.1"
  }
 },
 "nbformat": 4,
 "nbformat_minor": 2
}
