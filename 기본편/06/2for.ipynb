{
 "cells": [
  {
   "cell_type": "code",
   "execution_count": 2,
   "metadata": {},
   "outputs": [
    {
     "name": "stdout",
     "output_type": "stream",
     "text": [
      "num : 3\n",
      "num : 5\n",
      "num : 9\n",
      "num : 23\n",
      "num : 5\n"
     ]
    }
   ],
   "source": [
    "for num in [3,5,9,23,5]:\n",
    "    print('num : {0}'.format(num))"
   ]
  },
  {
   "cell_type": "code",
   "execution_count": 3,
   "metadata": {},
   "outputs": [
    {
     "name": "stdout",
     "output_type": "stream",
     "text": [
      "num : 0\n",
      "num : 1\n",
      "num : 2\n",
      "num : 3\n",
      "num : 4\n"
     ]
    }
   ],
   "source": [
    "for num in range(0, 5):\n",
    "    print('num : {0}'.format(num))"
   ]
  },
  {
   "cell_type": "code",
   "execution_count": 5,
   "metadata": {},
   "outputs": [
    {
     "name": "stdout",
     "output_type": "stream",
     "text": [
      "list : q\n",
      "list : w\n",
      "list : e\n",
      "list : r\n",
      "list : t\n",
      "list : y\n"
     ]
    }
   ],
   "source": [
    "list1 = ['q','w','e','r','t','y']\n",
    "for forlist in list1:\n",
    "    print('list : {0}'.format(forlist))\n"
   ]
  }
 ],
 "metadata": {
  "kernelspec": {
   "display_name": "base",
   "language": "python",
   "name": "python3"
  },
  "language_info": {
   "codemirror_mode": {
    "name": "ipython",
    "version": 3
   },
   "file_extension": ".py",
   "mimetype": "text/x-python",
   "name": "python",
   "nbconvert_exporter": "python",
   "pygments_lexer": "ipython3",
   "version": "3.12.1"
  }
 },
 "nbformat": 4,
 "nbformat_minor": 2
}
