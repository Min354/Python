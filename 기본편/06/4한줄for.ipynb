{
 "cells": [
  {
   "cell_type": "code",
   "execution_count": 12,
   "metadata": {},
   "outputs": [
    {
     "name": "stdout",
     "output_type": "stream",
     "text": [
      "[1, 2, 3, 4, 5]\n",
      "[101, 102, 103, 104, 105]\n"
     ]
    }
   ],
   "source": [
    "num = [1, 2, 3, 4, 5]\n",
    "print(num)\n",
    "num = [i+100 for i in num]\n",
    "print(num)"
   ]
  },
  {
   "cell_type": "code",
   "execution_count": 13,
   "metadata": {},
   "outputs": [
    {
     "name": "stdout",
     "output_type": "stream",
     "text": [
      "['wefw', 'cecsrgw', 'adielvnlknygjmg', 'ggytthdbgfthn', 'vwlniovwgouh']\n",
      "[4, 7, 15, 13, 12]\n"
     ]
    }
   ],
   "source": [
    "str = ['wefw', 'cecsrgw', 'adielvnlknygjmg', 'ggytthdbgfthn', 'vwlniovwgouh']\n",
    "print(str)\n",
    "str1 = [len(i) for i in str]\n",
    "print(str1)"
   ]
  },
  {
   "cell_type": "code",
   "execution_count": 14,
   "metadata": {},
   "outputs": [
    {
     "name": "stdout",
     "output_type": "stream",
     "text": [
      "['WEFW', 'CECSRGW', 'ADIELVNLKNYGJMG', 'GGYTTHDBGFTHN', 'VWLNIOVWGOUH']\n"
     ]
    }
   ],
   "source": [
    "str2 = [i.upper() for i in str]\n",
    "print(str2)"
   ]
  }
 ],
 "metadata": {
  "kernelspec": {
   "display_name": "base",
   "language": "python",
   "name": "python3"
  },
  "language_info": {
   "codemirror_mode": {
    "name": "ipython",
    "version": 3
   },
   "file_extension": ".py",
   "mimetype": "text/x-python",
   "name": "python",
   "nbconvert_exporter": "python",
   "pygments_lexer": "ipython3",
   "version": "3.12.1"
  }
 },
 "nbformat": 4,
 "nbformat_minor": 2
}
